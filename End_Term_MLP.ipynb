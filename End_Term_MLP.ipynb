{
 "cells": [
  {
   "cell_type": "markdown",
   "metadata": {},
   "source": [
    "Note: Utilize this Jupiter Notebook (End_Term_MLP.ipynb) file attached to perform the following tasks in Jupyter Notebook file. While submitting the file, the filename should be renamed as End_Term_MLP_<Name><Roll Number>.ipynb. The codes should be executed and the outputs should be visible. If the outputs are not present, the students will lose marks."
   ]
  },
  {
   "cell_type": "markdown",
   "metadata": {},
   "source": [
    "Q5.  The following set of questions can be answered using the dataset (classify_strains.csv) attached."
   ]
  },
  {
   "cell_type": "code",
   "execution_count": null,
   "metadata": {
    "collapsed": true
   },
   "outputs": [],
   "source": [
    "#Loading appropriate packages\n",
    "\n",
    "import pandas as pd\n",
    "import numpy as np\n",
    "\n",
    "# For OS related operations\n",
    "import os\n",
    "import matplotlib.pyplot as plt\n",
    "import seaborn as sns\n",
    "\n",
    "# Scale numeric data\n",
    "from sklearn.preprocessing import StandardScaler as ss\n",
    "\n",
    "# One hot encode data--Convert to dummy\n",
    "from sklearn.preprocessing import OneHotEncoder as ohe\n",
    "\n",
    "from sklearn.preprocessing import LabelEncoder\n",
    "\n",
    "# for data splitting\n",
    "from sklearn.model_selection import train_test_split\n",
    "\n",
    "\n",
    "#Reading the complete data\n",
    "from sklearn.tree import DecisionTreeClassifier \n",
    "from sklearn import tree\n",
    "###################### Random Forest ############################\n",
    "from sklearn.ensemble import RandomForestClassifier \n",
    "\n",
    "######### kNN ##############\n",
    "from sklearn.neighbors import KNeighborsClassifier\n",
    "\n",
    "\n",
    "\n",
    "from sklearn.metrics import classification_report\n",
    "\n"
   ]
  },
  {
   "cell_type": "markdown",
   "metadata": {},
   "source": [
    "Q5a. Read the file \"classify_strains.csv\" and check if the file is loaded properly by checking the last 3 rows.  [2 marks]"
   ]
  },
  {
   "cell_type": "code",
   "execution_count": null,
   "metadata": {
    "collapsed": true
   },
   "outputs": [],
   "source": []
  },
  {
   "cell_type": "code",
   "execution_count": null,
   "metadata": {
    "collapsed": true
   },
   "outputs": [],
   "source": []
  },
  {
   "cell_type": "markdown",
   "metadata": {},
   "source": [
    "Q5b. Check the dimensions of the dataframe (rows and columns).           [1 mark]"
   ]
  },
  {
   "cell_type": "code",
   "execution_count": null,
   "metadata": {
    "collapsed": true
   },
   "outputs": [],
   "source": []
  },
  {
   "cell_type": "code",
   "execution_count": null,
   "metadata": {
    "collapsed": true
   },
   "outputs": [],
   "source": [
    "# Run this set of codes. Do not change anything in this code\n",
    "import random\n",
    "randlist = [np.NaN]\n",
    "for i in range(0,80):\n",
    "    n = random.randint(18,95)\n",
    "    randlist.append(n)\n",
    "print(randlist)\n",
    "\n",
    "age = []\n",
    "for i in range(0,200):\n",
    "    n=\"\"\n",
    "    for j in randlist:\n",
    "        n = random.choice(randlist)\n",
    "    age.append(n)\n",
    "print(age)\n",
    "print(len(age))"
   ]
  },
  {
   "cell_type": "markdown",
   "metadata": {},
   "source": [
    "Q5c. Add a new column in the dataframe named \"Age\" containing the values in the \"age\" array created above. Check if its correctly loaded.    [2 marks]"
   ]
  },
  {
   "cell_type": "code",
   "execution_count": null,
   "metadata": {
    "collapsed": true
   },
   "outputs": [],
   "source": []
  },
  {
   "cell_type": "markdown",
   "metadata": {},
   "source": [
    "Read this question carefully. Where ever you will find <RollNo> replace it with your own roll number and run the below given code. For Example, if its written like, \"<RollNo>_X\" and your roll number if \"F894\" it should be replaced as \"F894_X\""
   ]
  },
  {
   "cell_type": "code",
   "execution_count": null,
   "metadata": {
    "collapsed": true
   },
   "outputs": [],
   "source": [
    "#Execute the code given below\n",
    "list1 = [\"<RollNo>_X\", \"<RollNo>_Y\", \"<RollNo>_Z\", \"<RollNo>_A\"] #<RollNo> should be replaced with your roll number\n",
    "strain_class = []\n",
    "for i in range(0,200):\n",
    "    n=\"\"\n",
    "    for j in list1:\n",
    "        n = random.choice(list1)\n",
    "    strain_class.append(n)\n",
    "print(strain_class)\n",
    "print(len(strain_class))"
   ]
  },
  {
   "cell_type": "markdown",
   "metadata": {},
   "source": [
    "Q5d. Add a new column in the dataframe named \"Strain_Class\" containing the values in the \"strain_class\" array created above. Check if its correctly loaded.    [2 marks]"
   ]
  },
  {
   "cell_type": "code",
   "execution_count": null,
   "metadata": {
    "collapsed": true
   },
   "outputs": [],
   "source": []
  },
  {
   "cell_type": "markdown",
   "metadata": {},
   "source": [
    "Q5e. Check if there are any missing values in the data. If there are missing values remove them (omission).    [2 marks]"
   ]
  },
  {
   "cell_type": "code",
   "execution_count": null,
   "metadata": {
    "collapsed": true
   },
   "outputs": [],
   "source": []
  },
  {
   "cell_type": "markdown",
   "metadata": {},
   "source": [
    "Q5f. Group the Age column into different age groups using 3 bins (\"young\",\"middle-aged\",\"aged\"). Name the column as \"Age_cat\" (Utilize the function 'cut' in pandas)     [3 marks]"
   ]
  },
  {
   "cell_type": "code",
   "execution_count": null,
   "metadata": {
    "collapsed": true
   },
   "outputs": [],
   "source": []
  },
  {
   "cell_type": "markdown",
   "metadata": {},
   "source": [
    "Q5g. Remove the column \"Age\".       [1 mark]"
   ]
  },
  {
   "cell_type": "code",
   "execution_count": null,
   "metadata": {
    "collapsed": true
   },
   "outputs": [],
   "source": []
  },
  {
   "cell_type": "markdown",
   "metadata": {},
   "source": [
    "Q5h. Standardize/Normalize the numeric column(s) and encode the categorical columns. The target variable (Strain_Class) should be label encoded.     [6 marks]"
   ]
  },
  {
   "cell_type": "code",
   "execution_count": null,
   "metadata": {
    "collapsed": true
   },
   "outputs": [],
   "source": []
  },
  {
   "cell_type": "markdown",
   "metadata": {},
   "source": [
    "Q5i. Form a heatmap to visualize correlation between different columns. State your interpretation.              [4 marks]"
   ]
  },
  {
   "cell_type": "code",
   "execution_count": null,
   "metadata": {
    "collapsed": true
   },
   "outputs": [],
   "source": []
  },
  {
   "cell_type": "markdown",
   "metadata": {
    "collapsed": true
   },
   "source": [
    "Q5j. Create a bar-graph/column chart to figure out how many people belong to each age category.        [3 marks]"
   ]
  },
  {
   "cell_type": "code",
   "execution_count": null,
   "metadata": {
    "collapsed": true
   },
   "outputs": [],
   "source": []
  },
  {
   "cell_type": "markdown",
   "metadata": {},
   "source": [
    "Q5k. Place the independent variables in X. Place the dependent variable (strain_class) in Y. Then split the dataset into training and testing parts (80% training; 20% testing).                       [3 marks]"
   ]
  },
  {
   "cell_type": "code",
   "execution_count": null,
   "metadata": {
    "collapsed": true
   },
   "outputs": [],
   "source": []
  },
  {
   "cell_type": "markdown",
   "metadata": {},
   "source": [
    "Q5l. Utilize RandomForest and kNN to build the classification model. Based on F-measure/F1-score and Accuracy determine which model is better.\t\t\t\t\t\t\t\t                                                    [4+4+2=10]"
   ]
  },
  {
   "cell_type": "code",
   "execution_count": null,
   "metadata": {
    "collapsed": true
   },
   "outputs": [],
   "source": []
  },
  {
   "cell_type": "markdown",
   "metadata": {},
   "source": [
    "Q5m. Taking the last digit of your roll number (If your roll number is '025001', the last digit is 1. If the last digit value is greater than 5, then consider the value as 4) as the number of components, do a Principal Component Analysis (PCA) on the same data. Create a RandomForestClassifier on the transformed data and check if there is any improvement of performance.                           [5 marks]"
   ]
  },
  {
   "cell_type": "code",
   "execution_count": null,
   "metadata": {
    "collapsed": true
   },
   "outputs": [],
   "source": []
  }
 ],
 "metadata": {
  "kernelspec": {
   "display_name": "Python 2",
   "language": "python",
   "name": "python2"
  },
  "language_info": {
   "codemirror_mode": {
    "name": "ipython",
    "version": 2
   },
   "file_extension": ".py",
   "mimetype": "text/x-python",
   "name": "python",
   "nbconvert_exporter": "python",
   "pygments_lexer": "ipython2",
   "version": "2.7.13"
  }
 },
 "nbformat": 4,
 "nbformat_minor": 2
}
